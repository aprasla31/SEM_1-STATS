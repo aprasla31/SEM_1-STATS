{
 "cells": [
  {
   "cell_type": "raw",
   "id": "fb30a052",
   "metadata": {},
   "source": [
    "# probability of getting 3 when a die is rolled"
   ]
  },
  {
   "cell_type": "code",
   "execution_count": null,
   "id": "459da305",
   "metadata": {},
   "outputs": [],
   "source": [
    "ns = 6 #n(S) = {1,2,3,4,5,6}\n",
    "na = 1 #n(A) = {3}\n",
    "pa = na/ns # P(A)\n",
    "print(\"probability of getting 3 is:\",pa)"
   ]
  },
  {
   "cell_type": "raw",
   "id": "b24d9a3b",
   "metadata": {},
   "source": [
    "\n",
    "#  probability of atleast getting one head when a coin is tossed thrice"
   ]
  },
  {
   "cell_type": "code",
   "execution_count": null,
   "id": "c19e5bcf",
   "metadata": {},
   "outputs": [],
   "source": [
    "ns = 8 #n(S) = {HHH, HHT, HTH, THH, TTH, THT, HTT, TTT}\n",
    "na = 7 #n(A) = {HHH, HHT, HTH, THH, TTH, THT, HTT}\n",
    "pa = na/ns # P(A)\n",
    "print(\"probability of getting atleast one head is:\",pa)"
   ]
  },
  {
   "cell_type": "raw",
   "id": "906597c1",
   "metadata": {},
   "source": [
    "# A glass jar contains 5 red, 3 blue and 2 green jelly beans. If a jelly bean is chosen at random from the jar, mwhat is the probability that it is not blue?"
   ]
  },
  {
   "cell_type": "code",
   "execution_count": null,
   "id": "465a5446",
   "metadata": {},
   "outputs": [],
   "source": [
    "ns = 10 #n(S) = {5red,3blue,2green}\n",
    "na = 7 #n(A) = {5red, 2green}\n",
    "pa = na/ns # P(A)\n",
    "print(\"probability of getting not blue jellybean is:\",pa)"
   ]
  },
  {
   "cell_type": "markdown",
   "id": "a511a81c",
   "metadata": {},
   "source": [
    "# Independent and Dependent Events"
   ]
  },
  {
   "cell_type": "raw",
   "id": "6e5ac035",
   "metadata": {},
   "source": [
    "# If the probability that person A will be alive in 20 years\n",
    "is 0.7 and the probability that person B will be alive in\n",
    "20 years is 0.5, what is the probability that they will \n",
    "both be alive in 20 years? These are independent events, so"
   ]
  },
  {
   "cell_type": "code",
   "execution_count": null,
   "id": "c9d861f6",
   "metadata": {},
   "outputs": [],
   "source": [
    "P = 0.7*0.5\n",
    "print(\"probability that they will be alive after 20 years is:\",P)"
   ]
  },
  {
   "cell_type": "code",
   "execution_count": null,
   "id": "e451d8c1",
   "metadata": {},
   "outputs": [],
   "source": [
    "def event_probability(n,s):\n",
    "  return n/s"
   ]
  },
  {
   "cell_type": "raw",
   "id": "076ee0dd",
   "metadata": {},
   "source": [
    "#A fair die is tossed twice. Find the probability of getting a 4 or 5 on the first toss and a 1,2, or 3 in the second toss."
   ]
  },
  {
   "cell_type": "code",
   "execution_count": null,
   "id": "ed7599cc",
   "metadata": {},
   "outputs": [],
   "source": [
    "pa = event_probability(2,6) # probability of getting a 4 or 5 on the first toss\n",
    "pb = event_probability(3,6) # probability of getting 1,2,3 in second toss\n",
    "P = pa*pb \n",
    "print(\"probability of getting a 4 or 5 on the first toss and a 1,2, or 3 in the second toss is:\",P)"
   ]
  },
  {
   "cell_type": "raw",
   "id": "b1a7b816",
   "metadata": {},
   "source": [
    "# A bag contains 5 white marbles, 3 black marbles and 2 green marbles. In each draw, a marble is drawn from the bag\n",
    "# and not replaced. In three draws, find the probability of obtaining white, black and green in that order"
   ]
  },
  {
   "cell_type": "code",
   "execution_count": null,
   "id": "357615a0",
   "metadata": {},
   "outputs": [],
   "source": [
    "pw = event_probability(5,10)\n",
    "pb = event_probability(3,9)\n",
    "pg = event_probability(2,8)\n",
    "print(\"the probability of obtaining white, black and green in that order is \",(pw*pb*pg))"
   ]
  },
  {
   "cell_type": "code",
   "execution_count": null,
   "id": "5391dcca",
   "metadata": {},
   "outputs": [],
   "source": [
    " #Sample Space\n",
    "cards = 52\n",
    "\n",
    "# Calculate the probability of drawing a heart or a club\n",
    "hearts = 13\n",
    "clubs = 13\n",
    "heart_or_club = event_probability(hearts, cards) + event_probability(clubs, cards)\n",
    "print(heart_or_club )"
   ]
  },
  {
   "cell_type": "code",
   "execution_count": null,
   "id": "544ea5dd",
   "metadata": {},
   "outputs": [],
   "source": [
    "# Calculate the probability of drawing an ace, king, or a queen\n",
    "aces = 4\n",
    "kings = 4\n",
    "queens = 4\n",
    "ace_king_or_queen = event_probability(aces, cards) + event_probability(kings, cards) + event_probability(queens, cards)\n",
    "\n",
    "print(heart_or_club)\n",
    "print(ace_king_or_queen)"
   ]
  },
  {
   "cell_type": "code",
   "execution_count": null,
   "id": "fb997b26",
   "metadata": {},
   "outputs": [],
   "source": [
    "# Calculate the probability of drawing a heart or an ace\n",
    "hearts = 13\n",
    "aces = 4\n",
    "ace_of_hearts = 1\n",
    "heart_or_ace = event_probability(hearts, cards) + event_probability(aces, cards) - event_probability(ace_of_hearts, cards)\n",
    "print(round(heart_or_ace, 1))"
   ]
  },
  {
   "cell_type": "code",
   "execution_count": null,
   "id": "d0c8b53e",
   "metadata": {},
   "outputs": [],
   "source": [
    "red_cards = 26\n",
    "face_cards = 12\n",
    "red_face_cards = 6\n",
    "red_or_face_cards = event_probability(red_cards, cards) + event_probability(face_cards, cards) - event_probability(red_face_cards, cards)\n",
    "\n",
    "print(round(heart_or_ace, 1))\n",
    "print(round(red_or_face_cards, 1))"
   ]
  },
  {
   "cell_type": "markdown",
   "id": "23e88499",
   "metadata": {},
   "source": [
    "\n",
    "# Complementary Events"
   ]
  },
  {
   "cell_type": "code",
   "execution_count": null,
   "id": "4135d1d9",
   "metadata": {},
   "outputs": [],
   "source": [
    "#probabiltiy of not getting 5 when a fair die is rolled\n",
    "ns = 6 #n(S) = {1,2,3,4,5,6}\n",
    "na = 1 #n(A) = {5}\n",
    "pa = na/ns # P(A)\n",
    "print(\"probabilty of not getting 5 is:\",1-pa)"
   ]
  },
  {
   "cell_type": "markdown",
   "id": "eb43ed35",
   "metadata": {},
   "source": [
    "# Conditional Probability"
   ]
  },
  {
   "cell_type": "code",
   "execution_count": null,
   "id": "bee22f76",
   "metadata": {},
   "outputs": [],
   "source": [
    "import pandas as pd\n",
    "import numpy as np\n",
    "df = pd.read_csv('student-mat.csv')\n",
    "df.head(3)"
   ]
  },
  {
   "cell_type": "code",
   "execution_count": null,
   "id": "be8b2908",
   "metadata": {},
   "outputs": [],
   "source": [
    "len(df)\n"
   ]
  },
  {
   "cell_type": "code",
   "execution_count": null,
   "id": "1e83021c",
   "metadata": {},
   "outputs": [],
   "source": [
    "df['grade_A'] = np.where(df['G3']*5 >= 80, 1, 0)\n"
   ]
  },
  {
   "cell_type": "code",
   "execution_count": null,
   "id": "67f93979",
   "metadata": {},
   "outputs": [],
   "source": [
    "df['high_absenses'] = np.where(df['absences'] >= 10, 1, 0)\n"
   ]
  },
  {
   "cell_type": "code",
   "execution_count": null,
   "id": "56951eb5",
   "metadata": {},
   "outputs": [],
   "source": [
    "df['count'] = 1\n"
   ]
  },
  {
   "cell_type": "code",
   "execution_count": null,
   "id": "013c8276",
   "metadata": {},
   "outputs": [],
   "source": [
    "df = df[['grade_A','high_absenses','count']]\n",
    "df.head()\n"
   ]
  },
  {
   "cell_type": "code",
   "execution_count": null,
   "id": "5fffbe88",
   "metadata": {},
   "outputs": [],
   "source": [
    "final= pd.pivot_table(\n",
    "    df, \n",
    "    values='count', \n",
    "    index=['grade_A'], \n",
    "    columns=['high_absenses'], \n",
    "    aggfunc=np.size, \n",
    "    fill_value=0\n",
    ")\n",
    "print(final)"
   ]
  }
 ],
 "metadata": {
  "kernelspec": {
   "display_name": "Python 3 (ipykernel)",
   "language": "python",
   "name": "python3"
  },
  "language_info": {
   "codemirror_mode": {
    "name": "ipython",
    "version": 3
   },
   "file_extension": ".py",
   "mimetype": "text/x-python",
   "name": "python",
   "nbconvert_exporter": "python",
   "pygments_lexer": "ipython3",
   "version": "3.11.5"
  }
 },
 "nbformat": 4,
 "nbformat_minor": 5
}
